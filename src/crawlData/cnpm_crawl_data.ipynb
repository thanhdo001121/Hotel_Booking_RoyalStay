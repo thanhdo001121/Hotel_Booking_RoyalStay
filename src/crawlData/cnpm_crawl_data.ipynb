{
  "nbformat": 4,
  "nbformat_minor": 0,
  "metadata": {
    "colab": {
      "name": "airbnb1.ipynb",
      "provenance": []
    },
    "kernelspec": {
      "name": "python3",
      "display_name": "Python 3"
    },
    "language_info": {
      "name": "python"
    }
  },
  "cells": [
    {
      "cell_type": "code",
      "metadata": {
        "id": "oqiyCowoq7pf"
      },
      "source": [
        "from bs4 import BeautifulSoup \n",
        "from kora.selenium import wd\n",
        "import pandas as pd # All database operations\n",
        "import time         # Tracking time\n",
        "import requests     # HTTP requests"
      ],
      "execution_count": null,
      "outputs": []
    },
    {
      "cell_type": "code",
      "metadata": {
        "id": "E9URnUn1CtRD"
      },
      "source": [
        "# pip install kora"
      ],
      "execution_count": null,
      "outputs": []
    },
    {
      "cell_type": "code",
      "metadata": {
        "id": "JpPOFa2NrTg6"
      },
      "source": [
        "def getPage(url):\n",
        "\t''' returns a soup object that contains all the information \n",
        "\tof a certain webpage'''\n",
        "\tresult = requests.get(url)\n",
        "\tcontent = result.content\n",
        "\treturn BeautifulSoup(content, features = \"lxml\")\n"
      ],
      "execution_count": null,
      "outputs": []
    },
    {
      "cell_type": "code",
      "metadata": {
        "id": "jcEq6bvYsgnq"
      },
      "source": [
        "def getRoomClasses(soupPage):\n",
        "\t''' This function returns all the listings that can \n",
        "\tbe found on the page in a list.'''\n",
        "\trooms = soupPage.findAll(\"div\", {\"class\": \"_gig1e7\"})\n",
        "\tresult = []\n",
        "\tfor room in rooms:\n",
        "\t\tresult.append(room)\n",
        "\treturn result"
      ],
      "execution_count": null,
      "outputs": []
    },
    {
      "cell_type": "code",
      "metadata": {
        "id": "BPtHh0VtDYpl"
      },
      "source": [
        "def getListingLink(listing):\n",
        "  result = []\n",
        "  for i in range(len(listing)):\n",
        "    cd = listing[i]\n",
        "    result.append(\"http://airbnb.com\" + cd.find(\"a\")[\"href\"])\n",
        "  return result\n",
        "\n",
        "def getListingTitle(listing):\n",
        "\t''' This function returns the title of the listing'''\n",
        "\treturn listing.find(\"meta\")[\"content\"]\n",
        "\n",
        "def getRoomInfo(listing):\n",
        "\t''' Returns the guest information'''\n",
        "\treturn listing.find(\"div\", {\"class\":\"_kqh46o\"}).text\n",
        "def getRoomPrice(listing):\n",
        "  return listing.find(\"span\",{\"class\":\"_krjbj\"}).text\n",
        "def getRoomAddress(listing):\n",
        "  return listing.find(\"div\",{\"class\":\"_b14dlit\"}).text\n",
        "def getImages_Description(url):\n",
        "  wd.get(url)\n",
        "  time.sleep(3)\n",
        "  images = wd.find_elements_by_class_name('_6tbg2q')\n",
        "  about = wd.find_element_by_class_name('_1d784e5').get_attribute(\"textContent\")\n",
        "  result = []\n",
        "  for item in images:\n",
        "    result.append(item['src'])\n",
        "  return result, about\n",
        "\n"
      ],
      "execution_count": null,
      "outputs": []
    },
    {
      "cell_type": "code",
      "metadata": {
        "id": "WNpsKsMB6S2A"
      },
      "source": [
        "data={\n",
        "  'title' : [],\n",
        "  'info' : [],\n",
        "  'price' : [],\n",
        "  'address' : [],\n",
        "  'description': [],\n",
        "  'images' : []\n",
        "}"
      ],
      "execution_count": null,
      "outputs": []
    },
    {
      "cell_type": "code",
      "metadata": {
        "id": "-3g55_0sGwyF"
      },
      "source": [
        "def export_table(data):\n",
        "  table = pd.DataFrame(data,columns=['title','info','price','address','description','images'])\n",
        "  table.to_csv('royal_stay.csv', sep = ',' ,encoding ='utf-8', index=False)\n",
        "  print(table)"
      ],
      "execution_count": null,
      "outputs": []
    },
    {
      "cell_type": "code",
      "metadata": {
        "id": "kVWrLR1FHOUD"
      },
      "source": [
        "def get_holels_attributes(listing):\n",
        "  url = getListingLink(listing)\n",
        "  for i in range(len(listing)):\n",
        "    title = getListingTitle(listing[i])\n",
        "    info = getRoomInfo(listing[i])\n",
        "    price = getRoomPrice(listing[i])\n",
        "    address = getRoomAddress(listing[i])\n",
        "    images,description = getImages_Description(url[i])\n",
        "\n",
        "    data['title'].append(title)\n",
        "    data['info'].append(info)\n",
        "    data['price'].append(price)\n",
        "    data['address'].append(address)\n",
        "    data['description'].append(description)\n",
        "    data['images'].append(images)"
      ],
      "execution_count": null,
      "outputs": []
    },
    {
      "cell_type": "code",
      "metadata": {
        "id": "8ylvffVuJfAZ"
      },
      "source": [
        "def parse_page(url):\n",
        "  page=getPage(url)\n",
        "  time.sleep(3)\n",
        "  list_rooms = getRoomClasses(page)\n",
        "  get_holels_attributes(list_rooms)\n",
        "  export_table(data)"
      ],
      "execution_count": null,
      "outputs": []
    },
    {
      "cell_type": "code",
      "metadata": {
        "id": "lTlJi5nxo7Xr"
      },
      "source": [
        "list_links = [\"https://www.airbnb.com/s/Hanoi--Vietnam/homes?flexible_trip_dates%5B%5D=april&flexible_trip_dates%5B%5D=may&flexible_trip_lengths%5B%5D=weekend_trip&date_picker_type=calendar&refinement_paths%5B%5D=%2Fhomes&tab_id=home_tab&source=structured_search_input_header&search_type=autocomplete_click&query=Hanoi%2C%20Vietnam&place_id=ChIJoRyG2ZurNTERqRfKcnt_iOc\",\n",
        "      \"https://www.airbnb.com/s/Da-Nang--Vietnam/homes?flexible_trip_dates%5B%5D=april&flexible_trip_dates%5B%5D=may&flexible_trip_lengths%5B%5D=weekend_trip&date_picker_type=calendar&refinement_paths%5B%5D=%2Fhomes&tab_id=home_tab&source=structured_search_input_header&search_type=autocomplete_click&query=Da%20Nang%2C%20Vietnam&place_id=ChIJEyolkscZQjERh2RDRKDjFPw\",\n",
        "      \"https://www.airbnb.com/s/Phan-Thiet--vietnam/homes?flexible_trip_dates%5B%5D=april&flexible_trip_dates%5B%5D=may&flexible_trip_lengths%5B%5D=weekend_trip&date_picker_type=calendar&refinement_paths%5B%5D=%2Fhomes&tab_id=home_tab&source=structured_search_input_header&search_type=search_query\",\n",
        "      \"https://www.airbnb.com/s/Vung-Tau--Bà-Rịa~Vũng-Tàu--Vietnam/homes?flexible_trip_dates%5B%5D=april&flexible_trip_dates%5B%5D=may&flexible_trip_lengths%5B%5D=weekend_trip&date_picker_type=calendar&refinement_paths%5B%5D=%2Fhomes&tab_id=home_tab&source=structured_search_input_header&search_type=autocomplete_click&query=Vung%20Tau%2C%20Bà%20Rịa-Vũng%20Tàu%2C%20Vietnam&place_id=ChIJ9QxPVdRvdTERQPpB9jvST7I\",\n",
        "      \"https://www.airbnb.com/s/Da-Lat--Lâm-Đồng--Vietnam/homes?flexible_trip_dates%5B%5D=april&flexible_trip_dates%5B%5D=may&flexible_trip_lengths%5B%5D=weekend_trip&date_picker_type=calendar&refinement_paths%5B%5D=%2Fhomes&tab_id=home_tab&source=structured_search_input_header&search_type=autocomplete_click&query=Da%20Lat%2C%20Lâm%20Đồng%2C%20Vietnam&place_id=ChIJsYgJ8v4ScTERMPkrZ4siX60\",\n",
        "      \"https://www.airbnb.com/s/Phu-Quoc-Island--Phú-Quốc--Kien-Giang--Vietnam/homes?flexible_trip_dates%5B%5D=april&flexible_trip_dates%5B%5D=may&flexible_trip_lengths%5B%5D=weekend_trip&date_picker_type=calendar&refinement_paths%5B%5D=%2Fhomes&tab_id=home_tab&source=structured_search_input_header&search_type=autocomplete_click&query=Phu%20Quoc%20Island%2C%20Phú%20Quốc%2C%20Kien%20Giang%2C%20Vietnam&place_id=ChIJF9qetGKMpzER2yzXvft5qgg\"]\n"
      ],
      "execution_count": null,
      "outputs": []
    },
    {
      "cell_type": "code",
      "metadata": {
        "id": "d1Rh4dShCcId"
      },
      "source": [
        "for url in list_link:\n",
        "  parse_page(url)"
      ],
      "execution_count": null,
      "outputs": []
    },
    {
      "cell_type": "code",
      "metadata": {
        "id": "rO00bVvFMaAq"
      },
      "source": [
        "# url_page = \"https://www.airbnb.com/s/Phu-Quoc-Island--Phú-Quốc--Kien-Giang--Vietnam/homes?flexible_trip_dates%5B%5D=april&flexible_trip_dates%5B%5D=may&flexible_trip_lengths%5B%5D=weekend_trip&date_picker_type=calendar&refinement_paths%5B%5D=%2Fhomes&tab_id=home_tab&source=structured_search_input_header&search_type=autocomplete_click&query=Phu%20Quoc%20Island%2C%20Phú%20Quốc%2C%20Kien%20Giang%2C%20Vietnam&place_id=ChIJF9qetGKMpzER2yzXvft5qgg\""
      ],
      "execution_count": null,
      "outputs": []
    },
    {
      "cell_type": "code",
      "metadata": {
        "id": "pRxtPUSLKl7j"
      },
      "source": [
        "# page=getPage(url_page)\n",
        "# time.sleep(3)"
      ],
      "execution_count": null,
      "outputs": []
    },
    {
      "cell_type": "code",
      "metadata": {
        "id": "3oMEvGveyGCa"
      },
      "source": [
        "# list_rooms = getRoomClasses(page)\n"
      ],
      "execution_count": null,
      "outputs": []
    },
    {
      "cell_type": "code",
      "metadata": {
        "id": "LTeB3azeyOIL"
      },
      "source": [
        "# url = getListingLink(list_rooms)"
      ],
      "execution_count": null,
      "outputs": []
    },
    {
      "cell_type": "code",
      "metadata": {
        "id": "sY_BxmWoUGGe"
      },
      "source": [
        "# for i in range(len(url)):\n",
        "#   images,description = getImages_Description(url[i])\n",
        "#   print(i)\n",
        "#   print(images)\n",
        "#   data['images'].append(images)\n",
        "#   print(description)\n",
        "#   data['description'].append(description)"
      ],
      "execution_count": null,
      "outputs": []
    },
    {
      "cell_type": "code",
      "metadata": {
        "id": "NsExY8b8yx_F"
      },
      "source": [
        "# for i in range(len(list_rooms)):\n",
        "#   title = getListingTitle(list_rooms[i])\n",
        "#   info = getRoomInfo(list_rooms[i])\n",
        "#   price = getRoomPrice(list_rooms[i])\n",
        "#   address = getRoomAddress(list_rooms[i])\n",
        "#   # images,description = getImages_Description(url[i])\n",
        "  \n",
        "#   data['title'].append(title)\n",
        "#   data['info'].append(info)\n",
        "#   data['price'].append(price)\n",
        "#   data['address'].append(address)\n",
        "#   # data['description'].append(description)\n",
        "#   # data['images'].append(images)"
      ],
      "execution_count": null,
      "outputs": []
    },
    {
      "cell_type": "code",
      "metadata": {
        "id": "OzSCvJRL0n4L"
      },
      "source": [
        "# export_table(data)"
      ],
      "execution_count": null,
      "outputs": []
    }
  ]
}